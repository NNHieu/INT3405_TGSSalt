{
 "cells": [
  {
   "cell_type": "code",
   "execution_count": 1,
   "id": "noted-inside",
   "metadata": {},
   "outputs": [],
   "source": [
    "%load_ext tensorboard"
   ]
  },
  {
   "cell_type": "code",
   "execution_count": 3,
   "id": "ongoing-wrong",
   "metadata": {},
   "outputs": [
    {
     "data": {
      "text/plain": [
       "ERROR: Failed to launch TensorBoard (exited with 1).\n",
       "Contents of stderr:\n",
       "TensorFlow installation not found - running with reduced feature set.\n",
       "Traceback (most recent call last):\n",
       "  File \"/home/user/.local/bin/tensorboard\", line 8, in <module>\n",
       "    sys.exit(run_main())\n",
       "  File \"/home/user/.local/lib/python3.8/site-packages/tensorboard/main.py\", line 65, in run_main\n",
       "    default.get_plugins(),\n",
       "  File \"/home/user/.local/lib/python3.8/site-packages/tensorboard/default.py\", line 108, in get_plugins\n",
       "    return get_static_plugins() + get_dynamic_plugins()\n",
       "  File \"/home/user/.local/lib/python3.8/site-packages/tensorboard/default.py\", line 143, in get_dynamic_plugins\n",
       "    return [\n",
       "  File \"/home/user/.local/lib/python3.8/site-packages/tensorboard/default.py\", line 144, in <listcomp>\n",
       "    entry_point.load()\n",
       "  File \"/python/lib/python3.8/site-packages/pkg_resources/__init__.py\", line 2449, in load\n",
       "    self.require(*args, **kwargs)\n",
       "  File \"/python/lib/python3.8/site-packages/pkg_resources/__init__.py\", line 2472, in require\n",
       "    items = working_set.resolve(reqs, env, installer, extras=self.extras)\n",
       "  File \"/python/lib/python3.8/site-packages/pkg_resources/__init__.py\", line 777, in resolve\n",
       "    raise VersionConflict(dist, req).with_context(dependent_req)\n",
       "pkg_resources.ContextualVersionConflict: (idna 3.1 (/home/user/.local/lib/python3.8/site-packages), Requirement.parse('idna<3,>=2.5'), {'requests'})"
      ]
     },
     "metadata": {},
     "output_type": "display_data"
    }
   ],
   "source": [
    "%tensorboard --logdir logs/iter01"
   ]
  },
  {
   "cell_type": "code",
   "execution_count": null,
   "id": "standard-democrat",
   "metadata": {},
   "outputs": [],
   "source": []
  }
 ],
 "metadata": {
  "kernelspec": {
   "display_name": "Python 3",
   "language": "python",
   "name": "python3"
  },
  "language_info": {
   "codemirror_mode": {
    "name": "ipython",
    "version": 3
   },
   "file_extension": ".py",
   "mimetype": "text/x-python",
   "name": "python",
   "nbconvert_exporter": "python",
   "pygments_lexer": "ipython3",
   "version": "3.8.6"
  }
 },
 "nbformat": 4,
 "nbformat_minor": 5
}
