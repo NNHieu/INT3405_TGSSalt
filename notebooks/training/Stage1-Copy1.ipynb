{
 "cells": [
  {
   "cell_type": "code",
   "execution_count": 1,
   "id": "b86284f4-df55-40bb-b49e-efc73fcd5c5a",
   "metadata": {},
   "outputs": [],
   "source": [
    "import os\n",
    "os.chdir('../../code')"
   ]
  },
  {
   "cell_type": "code",
   "execution_count": 2,
   "id": "adc47124-a6db-4731-b30a-b9b2c3c73cea",
   "metadata": {},
   "outputs": [],
   "source": [
    "%load_ext autoreload\n",
    "%autoreload 2"
   ]
  },
  {
   "cell_type": "code",
   "execution_count": 3,
   "id": "5360df2e-e621-4e61-9b0c-183cc23fd6af",
   "metadata": {},
   "outputs": [],
   "source": [
    "import os\n",
    "from argparse import ArgumentParser\n",
    "import numpy as np\n",
    "import pandas as pd\n",
    "import cv2\n",
    "\n",
    "from data.datamodule import SaltDM\n",
    "from utils.metrics import cal_mAP, cal_mIoU\n",
    "from model import get_model\n",
    "from model.lovasz_losses import lovasz_hinge, lovasz_hinge2\n",
    "from model.layer import DiceBCELoss\n",
    "\n",
    "import torch\n",
    "import torch.nn as nn\n",
    "import torch.nn.functional as F\n",
    "from torchvision.transforms.functional import resize\n",
    "\n",
    "import pytorch_lightning as pl\n",
    "from pytorch_lightning.loggers import TensorBoardLogger\n",
    "from pytorch_lightning.callbacks import ModelCheckpoint\n",
    "from pytorch_lightning.callbacks import Callback\n",
    "from pytorch_lightning.callbacks.lr_monitor import LearningRateMonitor\n",
    "from pytorch_lightning.loggers import WandbLogger\n",
    "\n",
    "from utils import str2bool\n",
    "import timm"
   ]
  },
  {
   "cell_type": "code",
   "execution_count": 4,
   "id": "e7aef400-cc50-4b11-815d-2b749f8cbb5f",
   "metadata": {},
   "outputs": [],
   "source": [
    "class Lit(pl.LightningModule):\n",
    "    def __init__(self, **kwargs):\n",
    "        super().__init__()\n",
    "        self.save_hyperparameters()\n",
    "        self.salt = timm.create_model('tf_efficientnet_b4_ns', pretrained=True, num_classes=1)\n",
    "        self.salt.conv_stem = timm.models.layers.create_conv2d(1, self.salt.conv_stem.out_channels, 3, stride=2, padding='')\n",
    "        self.criterion = F.binary_cross_entropy_with_logits\n",
    "\n",
    "    def forward(self, x):\n",
    "        return self.salt(x)\n",
    "    \n",
    "    def _step_with_loss(self, batch, batch_idx):\n",
    "        inputs, target = batch\n",
    "        logit = self(inputs)\n",
    "        # bs = masks.size(0)\n",
    "        # loss = self.criterion(logit.view(bs, -1, 1), masks.view(bs, -1, 1))\n",
    "        loss = self.criterion(logit.squeeze(), target)\n",
    "        # for i, mo in enumerate(mid_outs):\n",
    "        #     loss += (0.5/len(mid_outs)) * self.criterion(mo.squeeze(1), resize(masks, mo.size()[-2:]).squeeze(1))\n",
    "        return loss, logit\n",
    "\n",
    "    def training_step(self, batch, batch_idx):\n",
    "        loss, logit = self._step_with_loss(batch, batch_idx)\n",
    "        self.log('Loss/train', loss.item(), on_step=False, on_epoch=True, prog_bar=False, logger=True)\n",
    "        target = batch[1] > 0\n",
    "        precision = ((logit > 0) == target).sum() / target.size(0) \n",
    "        self.log('Metrics_mAP/train', precision.item(), on_step=False, on_epoch=True, prog_bar=False, logger=True)\n",
    "        \n",
    "        return loss\n",
    "    \n",
    "    def validation_step(self, batch, batch_idx):\n",
    "        loss, logit = self._step_with_loss(batch, batch_idx)\n",
    "        target = batch[1] > 0\n",
    "        precision = ((logit > 0) == target).type(torch.float).mean()\n",
    "        # precision = precision.mean()\n",
    "        self.log('Loss/val', loss.item(), on_step=False, on_epoch=True, prog_bar=True, logger=True)\n",
    "        self.log('Metrics_mAP/val', precision.item(), on_step=False, on_epoch=True, prog_bar=True, logger=True)\n",
    "\n",
    "    def test_step(self, batch, batch_idx):\n",
    "        images = batch\n",
    "        logit_null = self(images)\n",
    "        preds_null = torch.sigmoid(logit_null).squeeze(1).detach()\n",
    "        logit_flip = self(images.flip(-1))\n",
    "        preds_flip = torch.sigmoid(logit_flip).squeeze(1).flip(-1).detach()\n",
    "        return (preds_flip + preds_null) / 2\n",
    "    \n",
    "    def test_epoch_end(self, outputs):\n",
    "        preds = torch.cat(outputs, dim=0).cpu().numpy()\n",
    "\n",
    "        preds_101 = np.zeros((preds.shape[0], 101, 101), dtype=np.float32)\n",
    "        for idx in range(preds.shape[0]):\n",
    "            preds_101[idx] = cv2.resize(preds[idx], dsize=(101, 101))\n",
    "        np.save(self.hparams.save_pred, preds_101)\n",
    "\n",
    "    def configure_optimizers(self):\n",
    "        # Setup optimizer\n",
    "        if self.hparams.optimizer == 'sgd':\n",
    "            optimizer = torch.optim.SGD(self.salt.parameters(), \n",
    "                                        lr=self.hparams.max_lr, \n",
    "                                        momentum=self.hparams.momentum,\n",
    "                                        weight_decay=self.hparams.weight_decay)\n",
    "        elif self.hparams.optimizer == 'adamw':\n",
    "            optimizer = torch.optim.AdamW(self.salt.parameters(), \n",
    "                                        lr=self.hparams.max_lr, \n",
    "                                        # momentum=self.hparams.momentum,\n",
    "                                        weight_decay=self.hparams.weight_decay)\n",
    "        else:\n",
    "            raise ValueError('wrong optimizer option')\n",
    "        \n",
    "            # torch.optim.lr_scheduler.CosineAnnealingLR(optimizer,\n",
    "            #                                                         T_max=20,\n",
    "            #                                                         eta_min=self.hparams.min_lr,\n",
    "            #                                                         verbose=True),\n",
    "        lr_scheduler = {\n",
    "            'scheduler': torch.optim.lr_scheduler.CosineAnnealingWarmRestarts(optimizer, 20, T_mult=1, eta_min=self.hparams.min_lr),\n",
    "            'interval': 'epoch',\n",
    "            'frequency': 1,\n",
    "        }\n",
    "        # return optimizer\n",
    "        return [optimizer], [lr_scheduler]\n",
    "\n",
    "    @staticmethod\n",
    "    def add_model_specific_args(parent_parser):\n",
    "        parser = ArgumentParser(parents=[parent_parser], add_help=False) \n",
    "        parser.add_argument('--model', default='res34v5', type=str, help='Model version')\n",
    "        parser.add_argument('--optimizer', default='sgd', type=str, help='Optimizer')\n",
    "        parser.add_argument('--snapshot_size', default=50, type=int, help='Number epochs per snapshot')\n",
    "        parser.add_argument('--max_lr', default=0.01, type=float, help='max learning rate')\n",
    "        parser.add_argument('--min_lr', default=0.001, type=float, help='min learning rate')\n",
    "        parser.add_argument('--momentum', default=0.9, type=float, help='momentum for SGD')\n",
    "        parser.add_argument('--weight_decay', default=1e-4, type=float, help='Weight decay for SGD')\n",
    "        parser.add_argument('--save_pred', default='../predictions/', type=str, help='prediction save space')\n",
    "        return parser"
   ]
  },
  {
   "cell_type": "code",
   "execution_count": 5,
   "id": "6c7af5ea-fff8-4c60-900b-d0c2f670e2ae",
   "metadata": {},
   "outputs": [],
   "source": [
    "def parse_args(args=None):\n",
    "    parser = ArgumentParser()\n",
    "    parser.add_argument('--seed', type=int, default=42)\n",
    "    parser = pl.Trainer.add_argparse_args(parser)\n",
    "    parser = Lit.add_model_specific_args(parser)\n",
    "    return parser.parse_args(args)"
   ]
  },
  {
   "cell_type": "code",
   "execution_count": 6,
   "id": "8c01ba98-69cd-48c7-b38f-d4e0f3f092d8",
   "metadata": {},
   "outputs": [],
   "source": [
    "args = \"\"\"\n",
    "--seed 42\n",
    "--model effunet_b4\n",
    "--optimizer adamw\n",
    "--snapshot_size 50\n",
    "--max_lr 1e-3\n",
    "--min_lr 1e-7\n",
    "--momentum 0.9\n",
    "--weight_decay 1e-4\n",
    "--max_epoch 100\n",
    "--gpus 1\n",
    "--progress_bar_refresh_rate 20\n",
    "--num_sanity_val_steps 2\n",
    "\"\"\".split()\n",
    "args = parse_args(args)"
   ]
  },
  {
   "cell_type": "code",
   "execution_count": 7,
   "id": "a6e7c867-04ee-4176-befe-4229afbded5e",
   "metadata": {},
   "outputs": [],
   "source": [
    "from data.dataset import TGSSaltDatasetClassify\n",
    "from data.transforms import TGSTransform\n",
    "from torch.utils.data import DataLoader"
   ]
  },
  {
   "cell_type": "code",
   "execution_count": 8,
   "id": "67b15f98-658c-4952-ad93-722d2f31aaf4",
   "metadata": {},
   "outputs": [
    {
     "name": "stderr",
     "output_type": "stream",
     "text": [
      "GPU available: True, used: True\n",
      "TPU available: False, using: 0 TPU cores\n"
     ]
    }
   ],
   "source": [
    "trainer = pl.Trainer(gpus=1)"
   ]
  },
  {
   "cell_type": "code",
   "execution_count": 9,
   "id": "66c8f031-df49-4c29-9daf-2f1fbea64e2d",
   "metadata": {},
   "outputs": [],
   "source": [
    "model = Lit(**vars(args))"
   ]
  },
  {
   "cell_type": "code",
   "execution_count": 10,
   "id": "7fe56cb0-6452-4a97-817f-b7f14400999d",
   "metadata": {},
   "outputs": [],
   "source": [
    "df = pd.read_csv(os.path.join('../dataset', 'folds.csv'), index_col='id')\n",
    "tdf = df[df['fold'] != 0].reset_index()\n",
    "vdf = df[df['fold'] == 0].reset_index()"
   ]
  },
  {
   "cell_type": "code",
   "execution_count": 11,
   "id": "04fe404a-fb64-41c9-b111-de4da08f9fbb",
   "metadata": {},
   "outputs": [],
   "source": [
    "tds = TGSSaltDatasetClassify('../dataset', tdf, transforms=TGSTransform(1))\n",
    "vds = TGSSaltDatasetClassify('../dataset', vdf, transforms=TGSTransform(0))"
   ]
  },
  {
   "cell_type": "code",
   "execution_count": 12,
   "id": "bd68a2ae-663e-4100-a752-4ed25824f15a",
   "metadata": {},
   "outputs": [],
   "source": [
    "tdl = DataLoader(tds,\n",
    "              shuffle=True,\n",
    "              batch_size=16,\n",
    "              num_workers=4,\n",
    "              pin_memory=True)\n",
    "vdl = DataLoader(vds,\n",
    "              shuffle=False,\n",
    "              batch_size=16,\n",
    "              num_workers=4,\n",
    "              pin_memory=True)"
   ]
  },
  {
   "cell_type": "code",
   "execution_count": 13,
   "id": "f3dc0136-940d-4d6f-af7e-1569d5372872",
   "metadata": {},
   "outputs": [
    {
     "name": "stderr",
     "output_type": "stream",
     "text": [
      "LOCAL_RANK: 0 - CUDA_VISIBLE_DEVICES: [0]\n",
      "\n",
      "  | Name | Type         | Params\n",
      "--------------------------------------\n",
      "0 | salt | EfficientNet | 17.5 M\n",
      "--------------------------------------\n",
      "17.5 M    Trainable params\n",
      "0         Non-trainable params\n",
      "17.5 M    Total params\n",
      "70.198    Total estimated model params size (MB)\n"
     ]
    },
    {
     "data": {
      "application/vnd.jupyter.widget-view+json": {
       "model_id": "",
       "version_major": 2,
       "version_minor": 0
      },
      "text/plain": [
       "Validation sanity check: 0it [00:00, ?it/s]"
      ]
     },
     "metadata": {},
     "output_type": "display_data"
    },
    {
     "data": {
      "application/vnd.jupyter.widget-view+json": {
       "model_id": "b1fda0fc788e4779b00ba16ea39c4acf",
       "version_major": 2,
       "version_minor": 0
      },
      "text/plain": [
       "Training: 0it [00:00, ?it/s]"
      ]
     },
     "metadata": {},
     "output_type": "display_data"
    },
    {
     "data": {
      "application/vnd.jupyter.widget-view+json": {
       "model_id": "",
       "version_major": 2,
       "version_minor": 0
      },
      "text/plain": [
       "Validating: 0it [00:00, ?it/s]"
      ]
     },
     "metadata": {},
     "output_type": "display_data"
    },
    {
     "data": {
      "application/vnd.jupyter.widget-view+json": {
       "model_id": "",
       "version_major": 2,
       "version_minor": 0
      },
      "text/plain": [
       "Validating: 0it [00:00, ?it/s]"
      ]
     },
     "metadata": {},
     "output_type": "display_data"
    },
    {
     "data": {
      "application/vnd.jupyter.widget-view+json": {
       "model_id": "",
       "version_major": 2,
       "version_minor": 0
      },
      "text/plain": [
       "Validating: 0it [00:00, ?it/s]"
      ]
     },
     "metadata": {},
     "output_type": "display_data"
    },
    {
     "data": {
      "application/vnd.jupyter.widget-view+json": {
       "model_id": "",
       "version_major": 2,
       "version_minor": 0
      },
      "text/plain": [
       "Validating: 0it [00:00, ?it/s]"
      ]
     },
     "metadata": {},
     "output_type": "display_data"
    },
    {
     "data": {
      "application/vnd.jupyter.widget-view+json": {
       "model_id": "",
       "version_major": 2,
       "version_minor": 0
      },
      "text/plain": [
       "Validating: 0it [00:00, ?it/s]"
      ]
     },
     "metadata": {},
     "output_type": "display_data"
    },
    {
     "data": {
      "application/vnd.jupyter.widget-view+json": {
       "model_id": "",
       "version_major": 2,
       "version_minor": 0
      },
      "text/plain": [
       "Validating: 0it [00:00, ?it/s]"
      ]
     },
     "metadata": {},
     "output_type": "display_data"
    },
    {
     "data": {
      "application/vnd.jupyter.widget-view+json": {
       "model_id": "",
       "version_major": 2,
       "version_minor": 0
      },
      "text/plain": [
       "Validating: 0it [00:00, ?it/s]"
      ]
     },
     "metadata": {},
     "output_type": "display_data"
    },
    {
     "data": {
      "application/vnd.jupyter.widget-view+json": {
       "model_id": "",
       "version_major": 2,
       "version_minor": 0
      },
      "text/plain": [
       "Validating: 0it [00:00, ?it/s]"
      ]
     },
     "metadata": {},
     "output_type": "display_data"
    },
    {
     "data": {
      "application/vnd.jupyter.widget-view+json": {
       "model_id": "",
       "version_major": 2,
       "version_minor": 0
      },
      "text/plain": [
       "Validating: 0it [00:00, ?it/s]"
      ]
     },
     "metadata": {},
     "output_type": "display_data"
    },
    {
     "data": {
      "application/vnd.jupyter.widget-view+json": {
       "model_id": "",
       "version_major": 2,
       "version_minor": 0
      },
      "text/plain": [
       "Validating: 0it [00:00, ?it/s]"
      ]
     },
     "metadata": {},
     "output_type": "display_data"
    },
    {
     "data": {
      "application/vnd.jupyter.widget-view+json": {
       "model_id": "",
       "version_major": 2,
       "version_minor": 0
      },
      "text/plain": [
       "Validating: 0it [00:00, ?it/s]"
      ]
     },
     "metadata": {},
     "output_type": "display_data"
    },
    {
     "name": "stderr",
     "output_type": "stream",
     "text": [
      "/home/user/.local/lib/python3.8/site-packages/pytorch_lightning/utilities/distributed.py:68: UserWarning: Detected KeyboardInterrupt, attempting graceful shutdown...\n",
      "  warnings.warn(*args, **kwargs)\n"
     ]
    },
    {
     "data": {
      "text/plain": [
       "1"
      ]
     },
     "execution_count": 13,
     "metadata": {},
     "output_type": "execute_result"
    }
   ],
   "source": [
    "trainer.fit(model, tdl, vdl)"
   ]
  },
  {
   "cell_type": "code",
   "execution_count": null,
   "id": "1ebf91bb-d0b6-46d8-b9ae-ae9b8fd0fcd5",
   "metadata": {},
   "outputs": [],
   "source": [
    "model(next(iter(dl))[0])"
   ]
  },
  {
   "cell_type": "code",
   "execution_count": null,
   "id": "e1e7bb5d-b38b-4e25-8284-84d6e9e8de10",
   "metadata": {},
   "outputs": [],
   "source": []
  }
 ],
 "metadata": {
  "kernelspec": {
   "display_name": "Python 3",
   "language": "python",
   "name": "python3"
  },
  "language_info": {
   "codemirror_mode": {
    "name": "ipython",
    "version": 3
   },
   "file_extension": ".py",
   "mimetype": "text/x-python",
   "name": "python",
   "nbconvert_exporter": "python",
   "pygments_lexer": "ipython3",
   "version": "3.8.6"
  }
 },
 "nbformat": 4,
 "nbformat_minor": 5
}
