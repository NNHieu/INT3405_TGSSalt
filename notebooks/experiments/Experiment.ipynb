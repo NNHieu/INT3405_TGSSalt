{
 "cells": [
  {
   "cell_type": "code",
   "execution_count": null,
   "id": "38db2110-7610-411f-999c-c0e72fe3c7c3",
   "metadata": {},
   "outputs": [],
   "source": [
    "import os\n",
    "os.chdir('../../code')"
   ]
  },
  {
   "cell_type": "code",
   "execution_count": null,
   "id": "enhanced-calcium",
   "metadata": {},
   "outputs": [],
   "source": [
    "from model import get_model\n",
    "import torch\n",
    "from predict import *\n",
    "from glob import glob\n",
    "import matplotlib.pyplot as plt\n",
    "from data.functional import collate_mask_fn\n",
    "import numpy as np\n",
    "from utils.metrics import cal_mAP\n",
    "import torch.nn.functional as F"
   ]
  },
  {
   "cell_type": "code",
   "execution_count": null,
   "id": "affecting-telephone",
   "metadata": {},
   "outputs": [],
   "source": [
    "filelist = []\n",
    "\n",
    "for root, dirs, files in os.walk('../params/effunet_b4'):\n",
    "    for file in files:\n",
    "        #append the file name to the list\n",
    "        filelist.append(os.path.join(root,file))\n",
    "print('\\n'.join(filelist))"
   ]
  },
  {
   "cell_type": "code",
   "execution_count": null,
   "id": "circular-feature",
   "metadata": {},
   "outputs": [],
   "source": [
    "pretrain = torch.load('../params/effunet_b4/f2/epoch=100-precision=0.8395.ckpt')\n",
    "state_dict = {k[5:]:v for k,v in pretrain['state_dict'].items()}"
   ]
  },
  {
   "cell_type": "code",
   "execution_count": null,
   "id": "twelve-orange",
   "metadata": {},
   "outputs": [],
   "source": [
    "model = get_model('effunet_b4')\n",
    "model.load_state_dict(state_dict)"
   ]
  },
  {
   "cell_type": "code",
   "execution_count": null,
   "id": "recent-moscow",
   "metadata": {},
   "outputs": [],
   "source": [
    "root_ds = '../dataset'\n",
    "cross_validation = True\n",
    "fold_val_idx = 0\n",
    "\n",
    "# DataFrame chứa toàn bộ train_id và đã được chia fold\n",
    "df = pd.read_csv(os.path.join(root_ds, 'folds.csv'), index_col='id')\n",
    "total_sample = len(df.index)\n",
    "print('Total numper of sample:', total_sample)\n",
    "\n",
    "val_df = df.loc[df.fold == 0].reset_index()\n",
    "val_ds = TGSSaltDataset(root_ds, val_df, transforms=TGSTransform(augment_strategy=0)) # Không augmentation cho valid set\n",
    "val_dl = DataLoader(val_ds, batch_size=16, num_workers=4, collate_fn=collate_mask_fn, pin_memory=True)"
   ]
  },
  {
   "cell_type": "code",
   "execution_count": null,
   "id": "dental-account",
   "metadata": {},
   "outputs": [],
   "source": [
    "val_iter = iter(val_dl)"
   ]
  },
  {
   "cell_type": "code",
   "execution_count": null,
   "id": "impossible-tokyo",
   "metadata": {},
   "outputs": [],
   "source": [
    "batch = next(val_iter)"
   ]
  },
  {
   "cell_type": "code",
   "execution_count": null,
   "id": "bizarre-accountability",
   "metadata": {},
   "outputs": [],
   "source": [
    "model.eval()\n",
    "model.cuda()\n",
    "with torch.no_grad():\n",
    "    e1, e2, e3, e4, e5 = model.encoder(batch[0].cuda())\n",
    "    c = model.center(e5)\n",
    "    d5, d4, d3, d2, d1 = model.decoder(c, e5, e4, e3, e2)\n",
    "    f = torch.cat((d1,\n",
    "                   F.interpolate(d2, scale_factor=2, mode='bilinear', align_corners=True),\n",
    "                   F.interpolate(d3, scale_factor=4, mode='bilinear', align_corners=True),\n",
    "                   F.interpolate(d4, scale_factor=8, mode='bilinear', align_corners=True),\n",
    "                   F.interpolate(d5, scale_factor=16, mode='bilinear', align_corners=True)), 1)  # 320, 128, 128\n",
    "    f = F.dropout2d(f, p=0.4)\n",
    "    logits = model.logit(f)  # 1, 128, 128"
   ]
  },
  {
   "cell_type": "code",
   "execution_count": null,
   "id": "chicken-eugene",
   "metadata": {},
   "outputs": [],
   "source": [
    "idx = 11\n",
    "img = batch[0][idx]\n",
    "mask = batch[1][idx]\n",
    "_img = img.squeeze(0)\n",
    "_msk = mask.squeeze(0).round()\n",
    "inside = [fm[idx] for fm in [e1, e2, e3, e4, e5, c, d5, d4, d3, d2, d1]]\n",
    "fig, axs = plt.subplots(nrows=len(inside) + 1, ncols=10, figsize=(20, 20))\n",
    "axs[0, 0].imshow(_img, cmap='gray')\n",
    "axs[0, 1].imshow(_msk, cmap='gray')\n",
    "axs[0, 2].imshow((torch.sigmoid(logits[idx][0])).cpu(), cmap='gray')\n",
    "axs[0, 3].imshow((torch.sigmoid(logits[idx][0]) > 0.5).cpu(), cmap='gray')\n",
    "\n",
    "\n",
    "for ax in axs.flat:\n",
    "    ax.axis('off')\n",
    "\n",
    "for i, fm in enumerate(inside):\n",
    "    for j in range(10):\n",
    "        _att = fm[j].squeeze().cpu().numpy()\n",
    "        axs[i + 1, j].imshow(_att, cmap='gray')\n",
    "plt.show()"
   ]
  },
  {
   "cell_type": "code",
   "execution_count": null,
   "id": "fe7d0aa2-912d-48e5-b344-bcba57ebc77f",
   "metadata": {},
   "outputs": [],
   "source": [
    "plt.imshow((torch.sigmoid(logits[idx][0]) > 0.5).cpu())"
   ]
  },
  {
   "cell_type": "code",
   "execution_count": null,
   "id": "special-dominant",
   "metadata": {},
   "outputs": [],
   "source": [
    "fig.savefig('inside_3_11.png')"
   ]
  },
  {
   "cell_type": "code",
   "execution_count": null,
   "id": "rough-visit",
   "metadata": {},
   "outputs": [],
   "source": []
  }
 ],
 "metadata": {
  "kernelspec": {
   "display_name": "Python 3",
   "language": "python",
   "name": "python3"
  },
  "language_info": {
   "codemirror_mode": {
    "name": "ipython",
    "version": 3
   },
   "file_extension": ".py",
   "mimetype": "text/x-python",
   "name": "python",
   "nbconvert_exporter": "python",
   "pygments_lexer": "ipython3",
   "version": "3.8.6"
  }
 },
 "nbformat": 4,
 "nbformat_minor": 5
}
