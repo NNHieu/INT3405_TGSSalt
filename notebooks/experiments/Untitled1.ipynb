{
 "cells": [
  {
   "cell_type": "code",
   "execution_count": 1,
   "id": "acoustic-average",
   "metadata": {},
   "outputs": [],
   "source": [
    "%load_ext autoreload\n",
    "%autoreload 2"
   ]
  },
  {
   "cell_type": "code",
   "execution_count": 2,
   "id": "august-confusion",
   "metadata": {},
   "outputs": [],
   "source": [
    "import os\n",
    "os.chdir('..')"
   ]
  },
  {
   "cell_type": "code",
   "execution_count": 3,
   "id": "framed-maple",
   "metadata": {},
   "outputs": [],
   "source": [
    "from argparse import ArgumentParser\n",
    "from PIL import Image\n",
    "import json\n",
    "import pandas as pd\n",
    "import numpy as np\n",
    "import matplotlib.pyplot as plt\n",
    "from torchvision.transforms.functional import to_tensor\n",
    "from torch.utils.data import DataLoader, random_split\n",
    "\n",
    "\n",
    "import pytorch_lightning as pl\n",
    "from pytorch_lightning.loggers import TensorBoardLogger\n",
    "from pytorch_lightning.callbacks import ModelCheckpoint"
   ]
  },
  {
   "cell_type": "code",
   "execution_count": 4,
   "id": "discrete-functionality",
   "metadata": {},
   "outputs": [],
   "source": [
    "from data import NetherlandsF3DS, NetherlandsF3Transform, collate_fn\n",
    "from train import LitClassification"
   ]
  },
  {
   "cell_type": "code",
   "execution_count": 5,
   "id": "promising-restriction",
   "metadata": {},
   "outputs": [
    {
     "name": "stdout",
     "output_type": "stream",
     "text": [
      "Numper of rows: 94720\n",
      "75776 18944\n"
     ]
    }
   ],
   "source": [
    "root_ds = 'dataset/tiles_inlines/tiles_inlines'\n",
    "\n",
    "df = pd.read_csv('tiles_inline.csv')\n",
    "total_sample = len(df.index)\n",
    "print('Numper of rows:', total_sample)\n",
    "\n",
    "train_size = int(0.8*total_sample)\n",
    "train_index, val_index = random_split(range(total_sample), [train_size, total_sample - train_size])\n",
    "\n",
    "train_df = df.loc[list(train_index)].reset_index()\n",
    "val_df = df.loc[list(val_index)].reset_index()\n",
    "\n",
    "train_ds = NetherlandsF3DS(root_ds, train_df, transforms=NetherlandsF3Transform(augment=True, use_depth=False))\n",
    "val_ds = NetherlandsF3DS(root_ds, val_df, transforms=NetherlandsF3Transform(augment=False, use_depth=False))\n",
    "\n",
    "print(len(train_ds), len(val_ds))"
   ]
  },
  {
   "cell_type": "code",
   "execution_count": 6,
   "id": "unexpected-height",
   "metadata": {},
   "outputs": [
    {
     "name": "stdout",
     "output_type": "stream",
     "text": [
      "torch.Size([1, 25, 64]) torch.Size([1])\n"
     ]
    }
   ],
   "source": [
    "img, mask = train_ds[0]\n",
    "print(img.size(), mask.size())"
   ]
  },
  {
   "cell_type": "code",
   "execution_count": 7,
   "id": "metallic-conditioning",
   "metadata": {},
   "outputs": [],
   "source": [
    "train_dl = DataLoader(train_ds, batch_size=32, num_workers=4, collate_fn=collate_fn, shuffle=True)\n",
    "val_dl = DataLoader(val_ds, batch_size=32, num_workers=4, collate_fn=collate_fn)"
   ]
  },
  {
   "cell_type": "code",
   "execution_count": 8,
   "id": "inappropriate-compression",
   "metadata": {},
   "outputs": [],
   "source": [
    "tt_logger = TensorBoardLogger(save_dir='logs',\n",
    "#                              version='19',\n",
    "                             name='classification')\n",
    "checkpoint_dir = os.path.join(tt_logger.log_dir, 'ckpt')\n",
    "checkpoint_callback = ModelCheckpoint(dirpath=checkpoint_dir,\n",
    "                                      save_top_k=1,\n",
    "                                      verbose=False,\n",
    "                                      monitor='metrics_mAP',\n",
    "                                      mode='max',\n",
    "                                      save_last=False,)"
   ]
  },
  {
   "cell_type": "code",
   "execution_count": 9,
   "id": "suspended-budget",
   "metadata": {},
   "outputs": [],
   "source": [
    "def parse_args(args=None):\n",
    "    parser = ArgumentParser()\n",
    "    parser = pl.Trainer.add_argparse_args(parser)\n",
    "    parser = LitClassification.add_model_specific_args(parser)\n",
    "    parser.add_argument('--seed', type=int, default=42)\n",
    "    return parser.parse_args(args)\n",
    "\n",
    "def main(args):\n",
    "    pl.seed_everything(args.seed)\n",
    "    model = LitClassification(**vars(args))    \n",
    "    trainer = pl.Trainer.from_argparse_args(args, logger= tt_logger, checkpoint_callback=False)\n",
    "    return model, trainer"
   ]
  },
  {
   "cell_type": "code",
   "execution_count": 10,
   "id": "arctic-insider",
   "metadata": {},
   "outputs": [],
   "source": [
    "# add PROGRAM level args\n",
    "program_args = \"\"\"\n",
    "      --seed 42\n",
    "      \"\"\".split()\n",
    "model_args = \"\"\"\n",
    "    --name_model resunet\n",
    "    --num_down_stage 4\n",
    "    --num_filter1 16\n",
    "    --bilinear n\n",
    "    --lr 5e-4\n",
    "    --momentum 0.9\n",
    "    --weight_decay 5e-4\n",
    "    \"\"\".split()\n",
    " \n",
    "# add all the available trainer options to argparse\n",
    "# ie: now --gpus --num_nodes ... --fast_dev_run all work in the cli\n",
    "#     --resume_from_checkpoint original_sgd_logs/bs_32/last.ckpt\n",
    "trainer_args = \"\"\"\n",
    "    --max_epoch 10\n",
    "    --gpus 1\n",
    "    --progress_bar_refresh_rate 20\n",
    "    --num_sanity_val_steps 0\n",
    "\"\"\".split()\n",
    "args = parse_args(program_args + model_args + trainer_args)"
   ]
  },
  {
   "cell_type": "code",
   "execution_count": 11,
   "id": "useful-scholarship",
   "metadata": {},
   "outputs": [
    {
     "name": "stderr",
     "output_type": "stream",
     "text": [
      "Global seed set to 42\n",
      "GPU available: True, used: True\n",
      "TPU available: None, using: 0 TPU cores\n"
     ]
    }
   ],
   "source": [
    "model, trainer = main(args)"
   ]
  },
  {
   "cell_type": "code",
   "execution_count": 12,
   "id": "proved-oliver",
   "metadata": {},
   "outputs": [
    {
     "name": "stderr",
     "output_type": "stream",
     "text": [
      "LOCAL_RANK: 0 - CUDA_VISIBLE_DEVICES: [0]\n",
      "\n",
      "  | Name       | Type             | Params\n",
      "------------------------------------------------\n",
      "0 | encoder    | ResEncoder       | 22.0 M\n",
      "1 | classifier | Sequential       | 5.1 K \n",
      "2 | criterion  | CrossEntropyLoss | 0     \n",
      "------------------------------------------------\n",
      "22.0 M    Trainable params\n",
      "0         Non-trainable params\n",
      "22.0 M    Total params\n",
      "87.919    Total estimated model params size (MB)\n"
     ]
    },
    {
     "data": {
      "application/vnd.jupyter.widget-view+json": {
       "model_id": "f657d043795e4bfa941738a581b99b9a",
       "version_major": 2,
       "version_minor": 0
      },
      "text/plain": [
       "Training: 0it [00:00, ?it/s]"
      ]
     },
     "metadata": {},
     "output_type": "display_data"
    },
    {
     "data": {
      "application/vnd.jupyter.widget-view+json": {
       "model_id": "",
       "version_major": 2,
       "version_minor": 0
      },
      "text/plain": [
       "Validating: 0it [00:00, ?it/s]"
      ]
     },
     "metadata": {},
     "output_type": "display_data"
    },
    {
     "data": {
      "application/vnd.jupyter.widget-view+json": {
       "model_id": "",
       "version_major": 2,
       "version_minor": 0
      },
      "text/plain": [
       "Validating: 0it [00:00, ?it/s]"
      ]
     },
     "metadata": {},
     "output_type": "display_data"
    },
    {
     "data": {
      "application/vnd.jupyter.widget-view+json": {
       "model_id": "",
       "version_major": 2,
       "version_minor": 0
      },
      "text/plain": [
       "Validating: 0it [00:00, ?it/s]"
      ]
     },
     "metadata": {},
     "output_type": "display_data"
    },
    {
     "data": {
      "application/vnd.jupyter.widget-view+json": {
       "model_id": "",
       "version_major": 2,
       "version_minor": 0
      },
      "text/plain": [
       "Validating: 0it [00:00, ?it/s]"
      ]
     },
     "metadata": {},
     "output_type": "display_data"
    },
    {
     "data": {
      "application/vnd.jupyter.widget-view+json": {
       "model_id": "",
       "version_major": 2,
       "version_minor": 0
      },
      "text/plain": [
       "Validating: 0it [00:00, ?it/s]"
      ]
     },
     "metadata": {},
     "output_type": "display_data"
    },
    {
     "data": {
      "application/vnd.jupyter.widget-view+json": {
       "model_id": "",
       "version_major": 2,
       "version_minor": 0
      },
      "text/plain": [
       "Validating: 0it [00:00, ?it/s]"
      ]
     },
     "metadata": {},
     "output_type": "display_data"
    },
    {
     "data": {
      "application/vnd.jupyter.widget-view+json": {
       "model_id": "",
       "version_major": 2,
       "version_minor": 0
      },
      "text/plain": [
       "Validating: 0it [00:00, ?it/s]"
      ]
     },
     "metadata": {},
     "output_type": "display_data"
    },
    {
     "data": {
      "application/vnd.jupyter.widget-view+json": {
       "model_id": "",
       "version_major": 2,
       "version_minor": 0
      },
      "text/plain": [
       "Validating: 0it [00:00, ?it/s]"
      ]
     },
     "metadata": {},
     "output_type": "display_data"
    },
    {
     "name": "stderr",
     "output_type": "stream",
     "text": [
      "/home/user/.local/lib/python3.8/site-packages/pytorch_lightning/utilities/distributed.py:52: UserWarning: Detected KeyboardInterrupt, attempting graceful shutdown...\n",
      "  warnings.warn(*args, **kwargs)\n"
     ]
    },
    {
     "data": {
      "text/plain": [
       "1"
      ]
     },
     "execution_count": 12,
     "metadata": {},
     "output_type": "execute_result"
    }
   ],
   "source": [
    "trainer.fit(model, train_dl, val_dl)"
   ]
  },
  {
   "cell_type": "code",
   "execution_count": 13,
   "id": "manual-persian",
   "metadata": {},
   "outputs": [],
   "source": [
    "import torch\n",
    "torch.save(model.encoder.state_dict(), 'pretrain34.pth')"
   ]
  },
  {
   "cell_type": "code",
   "execution_count": null,
   "id": "subject-destiny",
   "metadata": {},
   "outputs": [],
   "source": []
  }
 ],
 "metadata": {
  "kernelspec": {
   "display_name": "Python 3",
   "language": "python",
   "name": "python3"
  },
  "language_info": {
   "codemirror_mode": {
    "name": "ipython",
    "version": 3
   },
   "file_extension": ".py",
   "mimetype": "text/x-python",
   "name": "python",
   "nbconvert_exporter": "python",
   "pygments_lexer": "ipython3",
   "version": "3.8.6"
  }
 },
 "nbformat": 4,
 "nbformat_minor": 5
}
