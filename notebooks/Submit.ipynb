{
 "cells": [
  {
   "cell_type": "code",
   "execution_count": 1,
   "id": "66283c15-550e-4159-b178-1cba09fed460",
   "metadata": {},
   "outputs": [],
   "source": [
    "%load_ext autoreload\n",
    "%autoreload 2"
   ]
  },
  {
   "cell_type": "code",
   "execution_count": 2,
   "id": "e5b7fce1-66e9-49cd-9c3d-e1044f762897",
   "metadata": {},
   "outputs": [],
   "source": [
    "import os\n",
    "os.chdir('../code')"
   ]
  },
  {
   "cell_type": "code",
   "execution_count": 3,
   "id": "01b61a98-ca4a-478b-8ed7-d45d3535aa0a",
   "metadata": {},
   "outputs": [],
   "source": [
    "from model import get_model\n",
    "import torch\n",
    "from predict import *\n",
    "from glob import glob\n",
    "import matplotlib.pyplot as plt\n",
    "from data.functional import collate_mask_fn\n",
    "import numpy as np\n",
    "from utils.metrics import cal_mAP"
   ]
  },
  {
   "cell_type": "code",
   "execution_count": 5,
   "id": "f1b2897d-1d5e-48b1-8518-d8128d208834",
   "metadata": {},
   "outputs": [
    {
     "name": "stdout",
     "output_type": "stream",
     "text": [
      "../params/effunet_b4/f03_exp_spaattn_adamw/ckpt/last.ckpt\n",
      "../params/effunet_b4/f03_exp_spaattn_adamw/ckpt/epoch=39-precision=0.8371.ckpt\n",
      "../params/effunet_b4/f00_exp_spaattn_adamw/ckpt/last.ckpt\n",
      "../params/effunet_b4/f00_exp_spaattn_adamw/ckpt/epoch=58-precision=0.8067.ckpt\n",
      "../params/effunet_b4/f00_exp_spaattn_adamw/ckpt/epoch=47-precision=0.8506.ckpt\n",
      "../params/effunet_b4/f02_exp_spaattn_adamw/ckpt/last.ckpt\n",
      "../params/effunet_b4/f02_exp_spaattn_adamw/ckpt/epoch=30-precision=0.8508.ckpt\n",
      "../params/effunet_b4/f00_exp_mish/ckpt/last.ckpt\n",
      "../params/effunet_b4/f00_exp_mish/ckpt/epoch=77-precision=0.8416.ckpt\n",
      "../params/effunet_b4/f00_exp_sgd_1/ckpt/epoch=71-precision=0.8525.ckpt\n",
      "../params/effunet_b4/f00_exp_sgd_1/ckpt/last.ckpt\n",
      "../params/effunet_b4/f00_exp_sgd_1/ckpt/last (copy).ckpt\n",
      "../params/effunet_b4/f00_exp_spaattn_4/ckpt/last.ckpt\n",
      "../params/effunet_b4/f00_exp_spaattn_4/ckpt/epoch=49-precision=0.8386.ckpt\n",
      "../params/effunet_b4/f00_exp_spaattn_4/ckpt/epoch=54-precision=0.8438.ckpt\n",
      "../params/effunet_b4/f04_exp_spaattn_adamw/ckpt/last.ckpt\n",
      "../params/effunet_b4/f04_exp_spaattn_adamw/ckpt/epoch=45-precision=0.8322.ckpt\n",
      "../params/effunet_b4/f00_exp_spaattn_6/ckpt/last.ckpt\n",
      "../params/effunet_b4/f00_exp_spaattn_6/ckpt/epoch=15-precision=0.8226.ckpt\n",
      "../params/effunet_b4/f00_exp_spaattn_sgd_2/ckpt/last.ckpt\n",
      "../params/effunet_b4/f00_exp_spaattn_sgd_2/ckpt/epoch=3-precision=0.7815.ckpt\n",
      "../params/effunet_b4/f00_exp_spaattn_3/ckpt/last.ckpt\n",
      "../params/effunet_b4/f00_exp_spaattn_3/ckpt/epoch=65-precision=0.8422.ckpt\n",
      "../params/effunet_b4/f00_exp_spaattn_3/ckpt/epoch=48-precision=0.8441.ckpt\n",
      "../params/effunet_b4/f01_exp_spaattn_adamw/ckpt/last.ckpt\n",
      "../params/effunet_b4/f01_exp_spaattn_adamw/ckpt/epoch=36-precision=0.8371.ckpt\n"
     ]
    }
   ],
   "source": [
    "filelist = []\n",
    "\n",
    "for root, dirs, files in os.walk('../params/effunet_b4'):\n",
    "    for file in files:\n",
    "        #append the file name to the list\n",
    "        filelist.append(os.path.join(root,file))\n",
    "print('\\n'.join(filelist))"
   ]
  },
  {
   "cell_type": "code",
   "execution_count": 6,
   "id": "ce8a390a-3b97-4d05-b067-29065bff42b9",
   "metadata": {},
   "outputs": [],
   "source": [
    "model = get_model('effunet_b4')"
   ]
  },
  {
   "cell_type": "code",
   "execution_count": 7,
   "id": "1d55b0bf-191b-4ecc-8a1a-e2640b5f61de",
   "metadata": {},
   "outputs": [],
   "source": [
    "pretrain = torch.load('../params/effunet_b4/f00_exp_spaattn_4/ckpt/epoch=54-precision=0.8438.ckpt')\n",
    "state_dict = {k[5:]:v for k,v in pretrain['state_dict'].items()}"
   ]
  },
  {
   "cell_type": "code",
   "execution_count": 8,
   "id": "b855e6e9-70f9-400a-9d9b-131690b8cc12",
   "metadata": {},
   "outputs": [
    {
     "data": {
      "text/plain": [
       "<All keys matched successfully>"
      ]
     },
     "execution_count": 8,
     "metadata": {},
     "output_type": "execute_result"
    }
   ],
   "source": [
    "model.load_state_dict(state_dict)"
   ]
  },
  {
   "cell_type": "markdown",
   "id": "c5b63b66-f416-4dba-b802-44a8de6f893b",
   "metadata": {},
   "source": [
    "## Find best threshold"
   ]
  },
  {
   "cell_type": "code",
   "execution_count": 9,
   "id": "40edf951-be58-42de-a763-099ed0d70ce5",
   "metadata": {},
   "outputs": [
    {
     "name": "stdout",
     "output_type": "stream",
     "text": [
      "Total numper of sample: 4000\n"
     ]
    }
   ],
   "source": [
    "root_ds = '../dataset'\n",
    "cross_validation = True\n",
    "fold_val_idx = 0\n",
    "\n",
    "# DataFrame chứa toàn bộ train_id và đã được chia fold\n",
    "df = pd.read_csv(os.path.join(root_ds, 'folds.csv'), index_col='id')\n",
    "total_sample = len(df.index)\n",
    "print('Total numper of sample:', total_sample)\n",
    "\n",
    "val_df = df.loc[df.fold == 0].reset_index()\n",
    "val_ds = TGSSaltDataset(root_ds, val_df, transforms=TGSTransform(augment_strategy=0)) # Không augmentation cho valid set\n",
    "val_dl = DataLoader(val_ds, batch_size=16, num_workers=4, collate_fn=collate_mask_fn, pin_memory=True)"
   ]
  },
  {
   "cell_type": "code",
   "execution_count": 10,
   "id": "52370d8c-461a-4918-91df-d23027a27de2",
   "metadata": {},
   "outputs": [
    {
     "name": "stderr",
     "output_type": "stream",
     "text": [
      "  0%|          | 0/51 [00:00<?, ?it/s]/python/lib/python3.8/site-packages/torch/nn/functional.py:2952: UserWarning: nn.functional.upsample is deprecated. Use nn.functional.interpolate instead.\n",
      "  warnings.warn(\"nn.functional.upsample is deprecated. Use nn.functional.interpolate instead.\")\n",
      "100%|██████████| 51/51 [00:11<00:00,  4.26it/s]\n"
     ]
    }
   ],
   "source": [
    "preds_test = pred_all(model, val_dl, True, is_valid=True)\n",
    "preds_test = torch.cat(preds_test, dim=0).unsqueeze(1)\n",
    "preds_101 = resize_to_orig(preds_test)"
   ]
  },
  {
   "cell_type": "code",
   "execution_count": 11,
   "id": "3cab9fbe-a231-4f40-b34f-4efff2cfafcf",
   "metadata": {},
   "outputs": [],
   "source": [
    "del preds_test\n",
    "val_ds.transforms = None\n",
    "val_df[\"masks\"] = [np.array(val_ds[idx][1]) / 255 for idx in val_df.index]\n",
    "val_df.head()\n",
    "true_masks = torch.tensor(val_df['masks'])\n",
    "del df, val_df, val_ds, val_dl"
   ]
  },
  {
   "cell_type": "code",
   "execution_count": 12,
   "id": "5f928bb0-3821-4ca8-8f89-1b30a2bc03fc",
   "metadata": {},
   "outputs": [
    {
     "data": {
      "text/plain": [
       "<matplotlib.legend.Legend at 0x7f7219fe8fa0>"
      ]
     },
     "execution_count": 12,
     "metadata": {},
     "output_type": "execute_result"
    },
    {
     "data": {
      "image/png": "[encoded data removed]",
      "text/plain": [
       "<Figure size 432x288 with 1 Axes>"
      ]
     },
     "metadata": {
      "needs_background": "light"
     },
     "output_type": "display_data"
    }
   ],
   "source": [
    "thresholds = np.linspace(0.3, 0.7, 31)\n",
    "mAPs = np.array([cal_mAP(preds_101, true_masks, threshold) for threshold in thresholds])\n",
    "threshold_best_index = np.argmax(mAPs) \n",
    "mAP_best = mAPs[threshold_best_index]\n",
    "threshold_best = thresholds[threshold_best_index]\n",
    "\n",
    "plt.plot(thresholds, mAPs)\n",
    "plt.plot(threshold_best, mAP_best, \"xr\", label=\"Best threshold\")\n",
    "plt.xlabel(\"Threshold\")\n",
    "plt.ylabel(\"IoU\")\n",
    "plt.title(\"Threshold vs IoU ({}, {})\".format(threshold_best, mAP_best))\n",
    "plt.legend()"
   ]
  },
  {
   "cell_type": "markdown",
   "id": "aae5b976-afc5-4d8c-ae43-b0f24de0a837",
   "metadata": {},
   "source": [
    "## Submit"
   ]
  },
  {
   "cell_type": "code",
   "execution_count": 13,
   "id": "a84d2610-d53c-49a5-aeed-2414d90a83d4",
   "metadata": {},
   "outputs": [
    {
     "name": "stderr",
     "output_type": "stream",
     "text": [
      "  0%|          | 0/1125 [00:00<?, ?it/s]/python/lib/python3.8/site-packages/torch/nn/functional.py:2952: UserWarning: nn.functional.upsample is deprecated. Use nn.functional.interpolate instead.\n",
      "  warnings.warn(\"nn.functional.upsample is deprecated. Use nn.functional.interpolate instead.\")\n",
      "100%|██████████| 1125/1125 [04:21<00:00,  4.30it/s]\n"
     ]
    }
   ],
   "source": [
    "add_depth=False\n",
    "resize_pad=False \n",
    "tta_flip=True\n",
    "data_root = '../dataset'\n",
    "batch_size=16\n",
    "num_workers=2\n",
    "pred_threshold=0.5\n",
    "\n",
    "df = pd.read_csv(os.path.join(data_root, 'folds.csv'), index_col='id')\n",
    "depths = pd.read_csv(os.path.join(data_root, 'depths.csv'), index_col='id')\n",
    "test_df = depths.loc[~depths.index.isin(df.index)].reset_index()\n",
    "ds_test = TGSSaltDataset(data_root, test_df, image_set='test', transforms=TGSTransform(augment_strategy=0, add_depth=add_depth,resize_pad=resize_pad))\n",
    "test_dl = DataLoader(ds_test,\n",
    "                      shuffle=False,\n",
    "                      batch_size=batch_size,\n",
    "                      num_workers=num_workers,\n",
    "                      pin_memory=True)\n",
    "preds_test = pred_all(model, test_dl, tta_flip)\n",
    "preds_test = torch.cat(preds_test, dim=0).unsqueeze(1)\n",
    "preds_101 = resize_to_orig(preds_test)"
   ]
  },
  {
   "cell_type": "code",
   "execution_count": 16,
   "id": "fda7260b-1c13-4824-8556-396e5bdc3f21",
   "metadata": {},
   "outputs": [
    {
     "name": "stdout",
     "output_type": "stream",
     "text": [
      "Encode time = 1.0783307552337646 s\n"
     ]
    }
   ],
   "source": [
    "sub = build_summission((preds_101.cpu().numpy() > 0.5133).astype(int), ds_test.image_ids)"
   ]
  },
  {
   "cell_type": "code",
   "execution_count": 17,
   "id": "dc397891-a24a-4703-b2c9-43784d830e9a",
   "metadata": {},
   "outputs": [],
   "source": [
    "sub.to_csv('effb4_spaatt_fpa_lovaszhinge_loss_tta.csv')"
   ]
  },
  {
   "cell_type": "code",
   "execution_count": 30,
   "id": "cbdad70f-120d-4269-8f5b-b6827df8f5b9",
   "metadata": {
    "tags": []
   },
   "outputs": [],
   "source": [
    "# sub = submit_model(model, '../dataset', add_depth=False, resize_pad=False, tta_flip=True, pred_threshold=0.55)"
   ]
  },
  {
   "cell_type": "code",
   "execution_count": 23,
   "id": "957fa181-1560-4564-adaf-2bfe983b84a6",
   "metadata": {},
   "outputs": [],
   "source": [
    "sub.to_csv('effb4_lovaszhinge_loss_noscheduler_tta.csv')"
   ]
  },
  {
   "cell_type": "code",
   "execution_count": 51,
   "id": "7835ceaf-ce6e-463c-a1b5-713055665e45",
   "metadata": {},
   "outputs": [
    {
     "data": {
      "text/plain": [
       "2310"
      ]
     },
     "execution_count": 51,
     "metadata": {},
     "output_type": "execute_result"
    }
   ],
   "source": [
    "import gc\n",
    "gc.collect()"
   ]
  }
 ],
 "metadata": {
  "kernelspec": {
   "display_name": "Python 3",
   "language": "python",
   "name": "python3"
  },
  "language_info": {
   "codemirror_mode": {
    "name": "ipython",
    "version": 3
   },
   "file_extension": ".py",
   "mimetype": "text/x-python",
   "name": "python",
   "nbconvert_exporter": "python",
   "pygments_lexer": "ipython3",
   "version": "3.8.6"
  }
 },
 "nbformat": 4,
 "nbformat_minor": 5
}
