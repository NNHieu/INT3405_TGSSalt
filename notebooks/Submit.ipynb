{
 "cells": [
  {
   "cell_type": "code",
   "execution_count": 1,
   "id": "66283c15-550e-4159-b178-1cba09fed460",
   "metadata": {},
   "outputs": [],
   "source": [
    "%load_ext autoreload\n",
    "%autoreload 2"
   ]
  },
  {
   "cell_type": "code",
   "execution_count": 2,
   "id": "e5b7fce1-66e9-49cd-9c3d-e1044f762897",
   "metadata": {},
   "outputs": [],
   "source": [
    "import os\n",
    "os.chdir('../code')"
   ]
  },
  {
   "cell_type": "code",
   "execution_count": 3,
   "id": "01b61a98-ca4a-478b-8ed7-d45d3535aa0a",
   "metadata": {},
   "outputs": [],
   "source": [
    "from model import get_model\n",
    "import torch\n",
    "from predict import *\n",
    "from glob import glob\n",
    "import matplotlib.pyplot as plt\n",
    "from data.functional import collate_mask_fn\n",
    "import numpy as np\n",
    "from utils.metrics import cal_mAP"
   ]
  },
  {
   "cell_type": "code",
   "execution_count": 6,
   "id": "f1b2897d-1d5e-48b1-8518-d8128d208834",
   "metadata": {},
   "outputs": [
    {
     "name": "stdout",
     "output_type": "stream",
     "text": [
      "../params/effunet_b4/f4/epoch=39-precision=0.8217.ckpt\n",
      "../params/effunet_b4/f4/epoch=79-precision=0.8344.ckpt\n",
      "../params/effunet_b4/f4/epoch=100-precision=0.8284.ckpt\n"
     ]
    }
   ],
   "source": [
    "filelist = []\n",
    "\n",
    "for root, dirs, files in os.walk('../params/effunet_b4/f4'):\n",
    "    for file in files:\n",
    "        #append the file name to the list\n",
    "        filelist.append(os.path.join(root,file))\n",
    "print('\\n'.join(filelist))"
   ]
  },
  {
   "cell_type": "code",
   "execution_count": 8,
   "id": "ce8a390a-3b97-4d05-b067-29065bff42b9",
   "metadata": {},
   "outputs": [],
   "source": [
    "model = get_model('effunet_b4')"
   ]
  },
  {
   "cell_type": "code",
   "execution_count": 11,
   "id": "1d55b0bf-191b-4ecc-8a1a-e2640b5f61de",
   "metadata": {},
   "outputs": [
    {
     "data": {
      "text/plain": [
       "<All keys matched successfully>"
      ]
     },
     "execution_count": 11,
     "metadata": {},
     "output_type": "execute_result"
    }
   ],
   "source": [
    "pretrain = torch.load('../params/effunet_b4/f00_exp_fpa_8/ckpt/epoch=97-precision=0.8480.ckpt')\n",
    "state_dict = {k[5:]:v for k,v in pretrain['state_dict'].items()}\n",
    "model.load_state_dict(state_dict)"
   ]
  },
  {
   "cell_type": "code",
   "execution_count": 7,
   "id": "b855e6e9-70f9-400a-9d9b-131690b8cc12",
   "metadata": {},
   "outputs": [],
   "source": [
    "filelist = filelist[1:]"
   ]
  },
  {
   "cell_type": "code",
   "execution_count": 8,
   "id": "04b58c20-37fa-4530-a987-af69c452b579",
   "metadata": {},
   "outputs": [
    {
     "data": {
      "text/plain": [
       "['../params/effunet_b4/f00_exp_fpa_8/ckpt/epoch=42-precision=0.8551.ckpt',\n",
       " '../params/effunet_b4/f00_exp_fpa_8/ckpt/epoch=97-precision=0.8480.ckpt',\n",
       " '../params/effunet_b4/f00_exp_fpa_8/ckpt/epoch=100-precision=0.8488.ckpt']"
      ]
     },
     "execution_count": 8,
     "metadata": {},
     "output_type": "execute_result"
    }
   ],
   "source": [
    "filelist"
   ]
  },
  {
   "cell_type": "markdown",
   "id": "c5b63b66-f416-4dba-b802-44a8de6f893b",
   "metadata": {},
   "source": [
    "## Find best threshold"
   ]
  },
  {
   "cell_type": "code",
   "execution_count": 8,
   "id": "40edf951-be58-42de-a763-099ed0d70ce5",
   "metadata": {},
   "outputs": [
    {
     "name": "stdout",
     "output_type": "stream",
     "text": [
      "Total numper of sample: 4000\n"
     ]
    }
   ],
   "source": [
    "root_ds = '../dataset'\n",
    "cross_validation = True\n",
    "fold_val_idx = 2\n",
    "\n",
    "# DataFrame chứa toàn bộ train_id và đã được chia fold\n",
    "df = pd.read_csv(os.path.join(root_ds, 'folds.csv'), index_col='id')\n",
    "total_sample = len(df.index)\n",
    "print('Total numper of sample:', total_sample)\n",
    "\n",
    "val_df = df.loc[df.fold == 0].reset_index()\n",
    "val_ds = TGSSaltDataset(root_ds, val_df, transforms=TGSTransform(augment_strategy=0)) # Không augmentation cho valid set\n",
    "val_dl = DataLoader(val_ds, batch_size=16, num_workers=4, collate_fn=collate_mask_fn, pin_memory=True)"
   ]
  },
  {
   "cell_type": "code",
   "execution_count": 9,
   "id": "52370d8c-461a-4918-91df-d23027a27de2",
   "metadata": {},
   "outputs": [
    {
     "name": "stderr",
     "output_type": "stream",
     "text": [
      "  0%|          | 0/51 [00:00<?, ?it/s]/python/lib/python3.8/site-packages/torch/nn/functional.py:2952: UserWarning: nn.functional.upsample is deprecated. Use nn.functional.interpolate instead.\n",
      "  warnings.warn(\"nn.functional.upsample is deprecated. Use nn.functional.interpolate instead.\")\n",
      "100%|██████████| 51/51 [00:11<00:00,  4.39it/s]\n"
     ]
    }
   ],
   "source": [
    "preds_test = pred_all(model, val_dl, True, is_valid=True)\n",
    "preds_test = torch.cat(preds_test, dim=0).unsqueeze(1)\n",
    "preds_101 = resize_to_orig(preds_test)"
   ]
  },
  {
   "cell_type": "code",
   "execution_count": 10,
   "id": "3cab9fbe-a231-4f40-b34f-4efff2cfafcf",
   "metadata": {},
   "outputs": [],
   "source": [
    "del preds_test\n",
    "val_ds.transforms = None\n",
    "val_df[\"masks\"] = [np.array(val_ds[idx][1]) / 255 for idx in val_df.index]\n",
    "val_df.head()\n",
    "true_masks = torch.tensor(val_df['masks'])\n",
    "del df, val_df, val_ds, val_dl"
   ]
  },
  {
   "cell_type": "code",
   "execution_count": 11,
   "id": "5f928bb0-3821-4ca8-8f89-1b30a2bc03fc",
   "metadata": {},
   "outputs": [
    {
     "data": {
      "text/plain": [
       "<matplotlib.legend.Legend at 0x7f7f45a660a0>"
      ]
     },
     "execution_count": 11,
     "metadata": {},
     "output_type": "execute_result"
    },
    {
     "data": {
      "image/png": "[encoded data removed]",
      "text/plain": [
       "<Figure size 432x288 with 1 Axes>"
      ]
     },
     "metadata": {
      "needs_background": "light"
     },
     "output_type": "display_data"
    }
   ],
   "source": [
    "thresholds = np.linspace(0.3, 0.7, 31)\n",
    "mAPs = np.array([cal_mAP(preds_101, true_masks, threshold) for threshold in thresholds])\n",
    "threshold_best_index = np.argmax(mAPs) \n",
    "mAP_best = mAPs[threshold_best_index]\n",
    "threshold_best = thresholds[threshold_best_index]\n",
    "\n",
    "plt.plot(thresholds, mAPs)\n",
    "plt.plot(threshold_best, mAP_best, \"xr\", label=\"Best threshold\")\n",
    "plt.xlabel(\"Threshold\")\n",
    "plt.ylabel(\"IoU\")\n",
    "plt.title(\"Threshold vs IoU ({}, {})\".format(threshold_best, mAP_best))\n",
    "plt.legend()"
   ]
  },
  {
   "cell_type": "markdown",
   "id": "aae5b976-afc5-4d8c-ae43-b0f24de0a837",
   "metadata": {},
   "source": [
    "## Submit"
   ]
  },
  {
   "cell_type": "code",
   "execution_count": 9,
   "id": "a84d2610-d53c-49a5-aeed-2414d90a83d4",
   "metadata": {},
   "outputs": [
    {
     "name": "stderr",
     "output_type": "stream",
     "text": [
      "  0%|          | 0/1125 [00:00<?, ?it/s]/python/lib/python3.8/site-packages/torch/nn/functional.py:2952: UserWarning: nn.functional.upsample is deprecated. Use nn.functional.interpolate instead.\n",
      "  warnings.warn(\"nn.functional.upsample is deprecated. Use nn.functional.interpolate instead.\")\n",
      "100%|██████████| 1125/1125 [04:20<00:00,  4.32it/s]\n"
     ]
    },
    {
     "name": "stdout",
     "output_type": "stream",
     "text": [
      "Encode time = 1.150395393371582 s\n"
     ]
    },
    {
     "name": "stderr",
     "output_type": "stream",
     "text": [
      "100%|██████████| 1125/1125 [04:19<00:00,  4.33it/s]\n"
     ]
    },
    {
     "name": "stdout",
     "output_type": "stream",
     "text": [
      "Encode time = 1.1426024436950684 s\n"
     ]
    },
    {
     "name": "stderr",
     "output_type": "stream",
     "text": [
      "100%|██████████| 1125/1125 [04:19<00:00,  4.33it/s]\n"
     ]
    },
    {
     "name": "stdout",
     "output_type": "stream",
     "text": [
      "Encode time = 1.1991512775421143 s\n"
     ]
    }
   ],
   "source": [
    "for i, f in enumerate(filelist):\n",
    "    pretrain = torch.load(f)\n",
    "    state_dict = {k[5:]:v for k,v in pretrain['state_dict'].items()}\n",
    "    model.load_state_dict(state_dict)\n",
    "    \n",
    "    \n",
    "    add_depth=False\n",
    "    resize_pad=False \n",
    "    tta_flip=True\n",
    "    data_root = '../dataset'\n",
    "    batch_size=16\n",
    "    num_workers=2\n",
    "    pred_threshold=0.5\n",
    "\n",
    "    df = pd.read_csv(os.path.join(data_root, 'folds.csv'), index_col='id')\n",
    "    depths = pd.read_csv(os.path.join(data_root, 'depths.csv'), index_col='id')\n",
    "    test_df = depths.loc[~depths.index.isin(df.index)].reset_index()\n",
    "    ds_test = TGSSaltDataset(data_root, test_df, image_set='test', transforms=TGSTransform(augment_strategy=0, add_depth=add_depth,resize_pad=resize_pad))\n",
    "    test_dl = DataLoader(ds_test,\n",
    "                          shuffle=False,\n",
    "                          batch_size=batch_size,\n",
    "                          num_workers=num_workers,\n",
    "                          pin_memory=True)\n",
    "    preds_test = pred_all(model, test_dl, tta_flip)\n",
    "    preds_test = torch.cat(preds_test, dim=0).unsqueeze(1)\n",
    "    preds_101 = resize_to_orig(preds_test)\n",
    "    \n",
    "    np.save(f'../predictions/fold4_snap{i}', preds_101.cpu().numpy())\n",
    "    sub = build_summission((preds_101.cpu().numpy() > 0.5).astype(int), ds_test.image_ids)\n",
    "    sub.to_csv(f'effb4_f4_snap{i}.csv')    \n",
    "    del preds_101"
   ]
  },
  {
   "cell_type": "code",
   "execution_count": 12,
   "id": "75e6ea2f-5e88-4287-b370-56d6de85990b",
   "metadata": {},
   "outputs": [
    {
     "name": "stderr",
     "output_type": "stream",
     "text": [
      "  0%|          | 0/1125 [00:00<?, ?it/s]/python/lib/python3.8/site-packages/torch/nn/functional.py:2952: UserWarning: nn.functional.upsample is deprecated. Use nn.functional.interpolate instead.\n",
      "  warnings.warn(\"nn.functional.upsample is deprecated. Use nn.functional.interpolate instead.\")\n",
      "100%|██████████| 1125/1125 [04:14<00:00,  4.42it/s]\n"
     ]
    }
   ],
   "source": [
    "add_depth=False\n",
    "resize_pad=False \n",
    "tta_flip=True\n",
    "data_root = '../dataset'\n",
    "batch_size=16\n",
    "num_workers=2\n",
    "pred_threshold=0.5\n",
    "\n",
    "df = pd.read_csv(os.path.join(data_root, 'folds.csv'), index_col='id')\n",
    "depths = pd.read_csv(os.path.join(data_root, 'depths.csv'), index_col='id')\n",
    "test_df = depths.loc[~depths.index.isin(df.index)].reset_index()\n",
    "ds_test = TGSSaltDataset(data_root, test_df, image_set='test', transforms=TGSTransform(augment_strategy=0, add_depth=add_depth,resize_pad=resize_pad))\n",
    "test_dl = DataLoader(ds_test,\n",
    "                      shuffle=False,\n",
    "                      batch_size=batch_size,\n",
    "                      num_workers=num_workers,\n",
    "                      pin_memory=True)\n",
    "preds_test = pred_all(model, test_dl, tta_flip)\n",
    "preds_test = torch.cat(preds_test, dim=0).unsqueeze(1)\n",
    "preds_101 = resize_to_orig(preds_test)"
   ]
  },
  {
   "cell_type": "code",
   "execution_count": 13,
   "id": "d461fbd8-1c91-4242-960d-14b074d3a8c7",
   "metadata": {},
   "outputs": [],
   "source": [
    "np.save('../predictions/fold0_snap1', preds_101.cpu().numpy())"
   ]
  },
  {
   "cell_type": "code",
   "execution_count": 14,
   "id": "fda7260b-1c13-4824-8556-396e5bdc3f21",
   "metadata": {},
   "outputs": [
    {
     "name": "stdout",
     "output_type": "stream",
     "text": [
      "Encode time = 1.2046959400177002 s\n"
     ]
    }
   ],
   "source": [
    "sub = build_summission((preds_101.cpu().numpy() > 0.5).astype(int), ds_test.image_ids)"
   ]
  },
  {
   "cell_type": "code",
   "execution_count": 15,
   "id": "64da3e7c-0293-416d-af44-22047516675e",
   "metadata": {},
   "outputs": [
    {
     "data": {
      "text/plain": [
       "torch.Size([18000, 101, 101])"
      ]
     },
     "execution_count": 15,
     "metadata": {},
     "output_type": "execute_result"
    }
   ],
   "source": [
    "preds_101.size()"
   ]
  },
  {
   "cell_type": "code",
   "execution_count": 16,
   "id": "dc397891-a24a-4703-b2c9-43784d830e9a",
   "metadata": {},
   "outputs": [],
   "source": [
    "sub.to_csv('effb4_f0_snap1.csv')"
   ]
  },
  {
   "cell_type": "code",
   "execution_count": 17,
   "id": "7e6dafc5-cb95-48b1-b37e-0ac62b682897",
   "metadata": {},
   "outputs": [],
   "source": [
    "del preds_101"
   ]
  },
  {
   "cell_type": "markdown",
   "id": "50106938-8671-42e1-85f8-44597f4fbdc4",
   "metadata": {},
   "source": [
    "## Load pre prediction"
   ]
  },
  {
   "cell_type": "code",
   "execution_count": 10,
   "id": "7835ceaf-ce6e-463c-a1b5-713055665e45",
   "metadata": {},
   "outputs": [],
   "source": [
    "s0 = np.load('../predictions/fold4_snap0.npy')\n",
    "s1 = np.load('../predictions/fold4_snap1.npy')\n",
    "swa = np.load('../predictions/fold4_snap2.npy')"
   ]
  },
  {
   "cell_type": "code",
   "execution_count": 11,
   "id": "d82ca242-1f7c-4de9-bc6d-06e8bb2fff67",
   "metadata": {},
   "outputs": [],
   "source": [
    "p = s0 + s1 + swa"
   ]
  },
  {
   "cell_type": "code",
   "execution_count": 12,
   "id": "3f171b55-8672-4f34-a03d-7b33cbc3f5db",
   "metadata": {},
   "outputs": [],
   "source": [
    "p /= 3"
   ]
  },
  {
   "cell_type": "code",
   "execution_count": 13,
   "id": "1ee67c44-de33-4ac8-aa6c-a1b4b9121a5b",
   "metadata": {},
   "outputs": [
    {
     "name": "stdout",
     "output_type": "stream",
     "text": [
      "Encode time = 1.0988199710845947 s\n"
     ]
    }
   ],
   "source": [
    "sub = build_summission((p > 0.5).astype(int), ds_test.image_ids)"
   ]
  },
  {
   "cell_type": "code",
   "execution_count": 14,
   "id": "b1e353ec-6295-4f65-b2c6-130e72b06c2e",
   "metadata": {},
   "outputs": [],
   "source": [
    "sub.to_csv('fold4.csv')"
   ]
  },
  {
   "cell_type": "code",
   "execution_count": 15,
   "id": "b88b1486-e5ef-4314-bf71-6c2a2b6a6d26",
   "metadata": {},
   "outputs": [],
   "source": [
    "del s0, s1, swa "
   ]
  },
  {
   "cell_type": "code",
   "execution_count": 16,
   "id": "67151149-d92b-4a25-9fe4-e7aa3184c77f",
   "metadata": {},
   "outputs": [],
   "source": [
    "np.save('../predictions/fold4', p)"
   ]
  },
  {
   "cell_type": "code",
   "execution_count": 17,
   "id": "32ed38c8-3986-4b04-91fd-8c30836ef944",
   "metadata": {},
   "outputs": [],
   "source": [
    "f0 = np.load('../predictions/fold0.npy')\n",
    "f1 = np.load('../predictions/fold1.npy')\n",
    "f2 = np.load('../predictions/fold2.npy')\n",
    "f3 = np.load('../predictions/fold3.npy')\n",
    "f4 = np.load('../predictions/fold4.npy')"
   ]
  },
  {
   "cell_type": "code",
   "execution_count": 18,
   "id": "a7af4907-b1d2-4ada-b252-863a0ea29636",
   "metadata": {},
   "outputs": [],
   "source": [
    "p = f0 + f1 + f2 + f3 + f4"
   ]
  },
  {
   "cell_type": "code",
   "execution_count": 19,
   "id": "93697365-0f43-41f2-a1a5-c61784619e89",
   "metadata": {},
   "outputs": [],
   "source": [
    "p /= 5"
   ]
  },
  {
   "cell_type": "code",
   "execution_count": 20,
   "id": "5d40bb8c-80d9-4452-88bd-d69a67aeda81",
   "metadata": {},
   "outputs": [
    {
     "name": "stdout",
     "output_type": "stream",
     "text": [
      "Encode time = 1.0969245433807373 s\n"
     ]
    }
   ],
   "source": [
    "sub = build_summission((p > 0.5).astype(int), ds_test.image_ids)"
   ]
  },
  {
   "cell_type": "code",
   "execution_count": 21,
   "id": "bffea33f-4e82-40ac-8a22-dc4937584b20",
   "metadata": {},
   "outputs": [],
   "source": [
    "sub.to_csv('5f.csv')"
   ]
  },
  {
   "cell_type": "code",
   "execution_count": null,
   "id": "f9d91bec-e4ee-46a2-a907-8e284c4570eb",
   "metadata": {},
   "outputs": [],
   "source": []
  }
 ],
 "metadata": {
  "kernelspec": {
   "display_name": "Python 3",
   "language": "python",
   "name": "python3"
  },
  "language_info": {
   "codemirror_mode": {
    "name": "ipython",
    "version": 3
   },
   "file_extension": ".py",
   "mimetype": "text/x-python",
   "name": "python",
   "nbconvert_exporter": "python",
   "pygments_lexer": "ipython3",
   "version": "3.8.6"
  }
 },
 "nbformat": 4,
 "nbformat_minor": 5
}
